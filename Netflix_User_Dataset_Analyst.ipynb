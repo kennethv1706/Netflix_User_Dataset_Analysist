{
 "cells": [
  {
   "cell_type": "markdown",
   "metadata": {},
   "source": [
    "===============================================================================================\n",
    "\n",
    "Milestone 1\n",
    "\n",
    "\n",
    "Nama : Kenneth Vincentius\n",
    "Batch : Hck-007\n",
    "\n",
    "\n",
    "Program ini dibuat untuk mengolah data set \"Netflix Userbase Dataset\" dan menganalisa dataset \n",
    "\n",
    "tersebut agar bisa mendapatakan informasi dari perhitungan statistic dan data visualisasi\n",
    "\n",
    "=================================================================================================="
   ]
  },
  {
   "cell_type": "markdown",
   "metadata": {},
   "source": [
    "link URL Tableau\n",
    "\n",
    "Dashboard Tableau : https://public.tableau.com/app/profile/kenneth.vincentius/viz/Milestone1fix/DashboardNetflixUserDataset?publish=yes\n",
    "\n",
    "Story Tableau : https://public.tableau.com/app/profile/kenneth.vincentius/viz/Milestone1fix/AnalisadanPerhitunganUserNetflixDataset?publish=yes\n"
   ]
  },
  {
   "cell_type": "markdown",
   "metadata": {},
   "source": [
    "**Identifikasi Masalah**"
   ]
  },
  {
   "cell_type": "markdown",
   "metadata": {},
   "source": [
    "Background : Saya adalah seorang data siencetist yang baru lulus dari hacktiv8 dan baru bekerja diperusahaan netflix. Terlepas dari semakin populernya Netflix dan basis pelanggannya yang besar, saya mendapatkan project dari team marketing untuk menganalisa dataset tentang subscriber netflix yang sudah ada bertujuan untuk membantu campaign marketing mereka menentukan bagaimana campaign marketing yang kedepannya harus dilakukan sevara efektif dan efisien untuk menaikkan jumlah subscriber netflix yang baru "
   ]
  },
  {
   "cell_type": "markdown",
   "metadata": {},
   "source": [
    "Penjabaran Masalah : \n",
    "1. Device apa yang paling sering digunakan untuk mengakses netflix ? \n",
    "2. Type subcriber apa yang paling banyak menghasilkan revenue ?\n",
    "3. Negara mana yang paling banyak menghasilkan reveue\n",
    "4. Gender apa yang paling banyak menggunakan netflix pada masing-masing negara\n",
    "5. Menghitung durasi lamanya pengguna netflix\n",
    "6. Berapa mean ,median ,modus, dan Skewness dari Umur ? (Statistic Desriptive)\n",
    "7. Apakah ada hubungannya antara subcriber netflix dengan revenue bulanan (Statistic Inferensial)"
   ]
  },
  {
   "cell_type": "markdown",
   "metadata": {},
   "source": [
    "Main Problem : kebutuhan akan kampanye pemasaran yang lebih efektif dan efisien untuk mendorong peningkatan pelanggan baru"
   ]
  },
  {
   "cell_type": "markdown",
   "metadata": {},
   "source": [
    "Spesifik : meningkatkan jumlah subcriber netflix baru \n",
    "\n",
    "Measurable : meningkatkan jumlah subscriber netflix baru sebanyak 15%\n",
    "\n",
    "Achievable : target kenaikan subscriber baru sebanyak 15% bisa dicapai\n",
    "\n",
    "Relevant : target kenaikan subscriber baru sebanyak 15% bisa tercapai dikarenakan pengalihan dimana sudah banyak orang yang menonton beralih dari TV ke smartdevice mereka dan banyaknya variasi program di netflix \n",
    "\n",
    "Timebound : target kenaikan subcriber baru sebanyak 15% bisa tercapai dalam waktu 6 bulan"
   ]
  },
  {
   "cell_type": "markdown",
   "metadata": {},
   "source": [
    "Problem Statement : Kebutuhan akan kampanye pemasaran yang lebih efektif dan efisien untuk mendorong peningkatan pelanggan baru sebesar 15% dalam waktu 6 bulan"
   ]
  },
  {
   "cell_type": "markdown",
   "metadata": {},
   "source": [
    "**Data Loading**"
   ]
  },
  {
   "cell_type": "code",
   "execution_count": 1,
   "metadata": {},
   "outputs": [],
   "source": [
    "#untuk memanggil module yang akan dipakai pada saat loading data dan mengolah data serta menvisualisasikan data\n",
    "import pandas as pd\n",
    "import numpy as np\n",
    "import matplotlib.pyplot as plt\n",
    "import seaborn as sns\n",
    "from scipy import stats"
   ]
  },
  {
   "cell_type": "code",
   "execution_count": 2,
   "metadata": {},
   "outputs": [
    {
     "data": {
      "text/html": [
       "<div>\n",
       "<style scoped>\n",
       "    .dataframe tbody tr th:only-of-type {\n",
       "        vertical-align: middle;\n",
       "    }\n",
       "\n",
       "    .dataframe tbody tr th {\n",
       "        vertical-align: top;\n",
       "    }\n",
       "\n",
       "    .dataframe thead th {\n",
       "        text-align: right;\n",
       "    }\n",
       "</style>\n",
       "<table border=\"1\" class=\"dataframe\">\n",
       "  <thead>\n",
       "    <tr style=\"text-align: right;\">\n",
       "      <th></th>\n",
       "      <th>User ID</th>\n",
       "      <th>Subscription Type</th>\n",
       "      <th>Monthly Revenue</th>\n",
       "      <th>Join Date</th>\n",
       "      <th>Last Payment Date</th>\n",
       "      <th>Country</th>\n",
       "      <th>Age</th>\n",
       "      <th>Gender</th>\n",
       "      <th>Device</th>\n",
       "      <th>Plan Duration</th>\n",
       "    </tr>\n",
       "  </thead>\n",
       "  <tbody>\n",
       "    <tr>\n",
       "      <th>0</th>\n",
       "      <td>1</td>\n",
       "      <td>Basic</td>\n",
       "      <td>10</td>\n",
       "      <td>15-01-22</td>\n",
       "      <td>10-06-23</td>\n",
       "      <td>United States</td>\n",
       "      <td>28</td>\n",
       "      <td>Male</td>\n",
       "      <td>Smartphone</td>\n",
       "      <td>1 Month</td>\n",
       "    </tr>\n",
       "    <tr>\n",
       "      <th>1</th>\n",
       "      <td>2</td>\n",
       "      <td>Premium</td>\n",
       "      <td>15</td>\n",
       "      <td>05-09-21</td>\n",
       "      <td>22-06-23</td>\n",
       "      <td>Canada</td>\n",
       "      <td>35</td>\n",
       "      <td>Female</td>\n",
       "      <td>Tablet</td>\n",
       "      <td>1 Month</td>\n",
       "    </tr>\n",
       "    <tr>\n",
       "      <th>2</th>\n",
       "      <td>3</td>\n",
       "      <td>Standard</td>\n",
       "      <td>12</td>\n",
       "      <td>28-02-23</td>\n",
       "      <td>27-06-23</td>\n",
       "      <td>United Kingdom</td>\n",
       "      <td>42</td>\n",
       "      <td>Male</td>\n",
       "      <td>Smart TV</td>\n",
       "      <td>1 Month</td>\n",
       "    </tr>\n",
       "    <tr>\n",
       "      <th>3</th>\n",
       "      <td>4</td>\n",
       "      <td>Standard</td>\n",
       "      <td>12</td>\n",
       "      <td>10-07-22</td>\n",
       "      <td>26-06-23</td>\n",
       "      <td>Australia</td>\n",
       "      <td>51</td>\n",
       "      <td>Female</td>\n",
       "      <td>Laptop</td>\n",
       "      <td>1 Month</td>\n",
       "    </tr>\n",
       "    <tr>\n",
       "      <th>4</th>\n",
       "      <td>5</td>\n",
       "      <td>Basic</td>\n",
       "      <td>10</td>\n",
       "      <td>01-05-23</td>\n",
       "      <td>28-06-23</td>\n",
       "      <td>Germany</td>\n",
       "      <td>33</td>\n",
       "      <td>Male</td>\n",
       "      <td>Smartphone</td>\n",
       "      <td>1 Month</td>\n",
       "    </tr>\n",
       "    <tr>\n",
       "      <th>...</th>\n",
       "      <td>...</td>\n",
       "      <td>...</td>\n",
       "      <td>...</td>\n",
       "      <td>...</td>\n",
       "      <td>...</td>\n",
       "      <td>...</td>\n",
       "      <td>...</td>\n",
       "      <td>...</td>\n",
       "      <td>...</td>\n",
       "      <td>...</td>\n",
       "    </tr>\n",
       "    <tr>\n",
       "      <th>2495</th>\n",
       "      <td>2496</td>\n",
       "      <td>Premium</td>\n",
       "      <td>14</td>\n",
       "      <td>25-07-22</td>\n",
       "      <td>12-07-23</td>\n",
       "      <td>Spain</td>\n",
       "      <td>28</td>\n",
       "      <td>Female</td>\n",
       "      <td>Smart TV</td>\n",
       "      <td>1 Month</td>\n",
       "    </tr>\n",
       "    <tr>\n",
       "      <th>2496</th>\n",
       "      <td>2497</td>\n",
       "      <td>Basic</td>\n",
       "      <td>15</td>\n",
       "      <td>04-08-22</td>\n",
       "      <td>14-07-23</td>\n",
       "      <td>Spain</td>\n",
       "      <td>33</td>\n",
       "      <td>Female</td>\n",
       "      <td>Smart TV</td>\n",
       "      <td>1 Month</td>\n",
       "    </tr>\n",
       "    <tr>\n",
       "      <th>2497</th>\n",
       "      <td>2498</td>\n",
       "      <td>Standard</td>\n",
       "      <td>12</td>\n",
       "      <td>09-08-22</td>\n",
       "      <td>15-07-23</td>\n",
       "      <td>United States</td>\n",
       "      <td>38</td>\n",
       "      <td>Male</td>\n",
       "      <td>Laptop</td>\n",
       "      <td>1 Month</td>\n",
       "    </tr>\n",
       "    <tr>\n",
       "      <th>2498</th>\n",
       "      <td>2499</td>\n",
       "      <td>Standard</td>\n",
       "      <td>13</td>\n",
       "      <td>12-08-22</td>\n",
       "      <td>12-07-23</td>\n",
       "      <td>Canada</td>\n",
       "      <td>48</td>\n",
       "      <td>Female</td>\n",
       "      <td>Tablet</td>\n",
       "      <td>1 Month</td>\n",
       "    </tr>\n",
       "    <tr>\n",
       "      <th>2499</th>\n",
       "      <td>2500</td>\n",
       "      <td>Basic</td>\n",
       "      <td>15</td>\n",
       "      <td>13-08-22</td>\n",
       "      <td>12-07-23</td>\n",
       "      <td>United States</td>\n",
       "      <td>35</td>\n",
       "      <td>Female</td>\n",
       "      <td>Smart TV</td>\n",
       "      <td>1 Month</td>\n",
       "    </tr>\n",
       "  </tbody>\n",
       "</table>\n",
       "<p>2500 rows × 10 columns</p>\n",
       "</div>"
      ],
      "text/plain": [
       "      User ID Subscription Type  Monthly Revenue Join Date Last Payment Date  \\\n",
       "0           1             Basic               10  15-01-22          10-06-23   \n",
       "1           2           Premium               15  05-09-21          22-06-23   \n",
       "2           3          Standard               12  28-02-23          27-06-23   \n",
       "3           4          Standard               12  10-07-22          26-06-23   \n",
       "4           5             Basic               10  01-05-23          28-06-23   \n",
       "...       ...               ...              ...       ...               ...   \n",
       "2495     2496           Premium               14  25-07-22          12-07-23   \n",
       "2496     2497             Basic               15  04-08-22          14-07-23   \n",
       "2497     2498          Standard               12  09-08-22          15-07-23   \n",
       "2498     2499          Standard               13  12-08-22          12-07-23   \n",
       "2499     2500             Basic               15  13-08-22          12-07-23   \n",
       "\n",
       "             Country  Age  Gender      Device Plan Duration  \n",
       "0      United States   28    Male  Smartphone       1 Month  \n",
       "1             Canada   35  Female      Tablet       1 Month  \n",
       "2     United Kingdom   42    Male    Smart TV       1 Month  \n",
       "3          Australia   51  Female      Laptop       1 Month  \n",
       "4            Germany   33    Male  Smartphone       1 Month  \n",
       "...              ...  ...     ...         ...           ...  \n",
       "2495           Spain   28  Female    Smart TV       1 Month  \n",
       "2496           Spain   33  Female    Smart TV       1 Month  \n",
       "2497   United States   38    Male      Laptop       1 Month  \n",
       "2498          Canada   48  Female      Tablet       1 Month  \n",
       "2499   United States   35  Female    Smart TV       1 Month  \n",
       "\n",
       "[2500 rows x 10 columns]"
      ]
     },
     "execution_count": 2,
     "metadata": {},
     "output_type": "execute_result"
    }
   ],
   "source": [
    "#memanggil data csv ke dalam visual code studio\n",
    "path='D:\\Ken\\git_pratice\\milestone 1\\\\Netflix Userbase.csv'\n",
    "df=pd.read_csv(path)\n",
    "df"
   ]
  },
  {
   "cell_type": "markdown",
   "metadata": {},
   "source": [
    "file csv sudah terload "
   ]
  },
  {
   "cell_type": "markdown",
   "metadata": {},
   "source": [
    "**Data Cleaning**"
   ]
  },
  {
   "cell_type": "code",
   "execution_count": 3,
   "metadata": {},
   "outputs": [
    {
     "data": {
      "text/plain": [
       "User ID              0\n",
       "Subscription Type    0\n",
       "Monthly Revenue      0\n",
       "Join Date            0\n",
       "Last Payment Date    0\n",
       "Country              0\n",
       "Age                  0\n",
       "Gender               0\n",
       "Device               0\n",
       "Plan Duration        0\n",
       "dtype: int64"
      ]
     },
     "execution_count": 3,
     "metadata": {},
     "output_type": "execute_result"
    }
   ],
   "source": [
    "#mengecek apakah ada data yang kosong\n",
    "df.isnull().sum()"
   ]
  },
  {
   "cell_type": "markdown",
   "metadata": {},
   "source": [
    "ketika melakukan pengecekan apakah ada data yang kosong / missing value ternyata tidak ada"
   ]
  },
  {
   "cell_type": "code",
   "execution_count": 4,
   "metadata": {},
   "outputs": [
    {
     "data": {
      "text/plain": [
       "0"
      ]
     },
     "execution_count": 4,
     "metadata": {},
     "output_type": "execute_result"
    }
   ],
   "source": [
    "#mengecek apakah ada data yang terduplikasi \n",
    "df.duplicated().sum()"
   ]
  },
  {
   "cell_type": "markdown",
   "metadata": {},
   "source": [
    "setelah melakukan pengecekan tidak ada data yang terduplikasi"
   ]
  },
  {
   "cell_type": "code",
   "execution_count": 5,
   "metadata": {},
   "outputs": [
    {
     "name": "stdout",
     "output_type": "stream",
     "text": [
      "<class 'pandas.core.frame.DataFrame'>\n",
      "RangeIndex: 2500 entries, 0 to 2499\n",
      "Data columns (total 10 columns):\n",
      " #   Column             Non-Null Count  Dtype \n",
      "---  ------             --------------  ----- \n",
      " 0   User ID            2500 non-null   int64 \n",
      " 1   Subscription Type  2500 non-null   object\n",
      " 2   Monthly Revenue    2500 non-null   int64 \n",
      " 3   Join Date          2500 non-null   object\n",
      " 4   Last Payment Date  2500 non-null   object\n",
      " 5   Country            2500 non-null   object\n",
      " 6   Age                2500 non-null   int64 \n",
      " 7   Gender             2500 non-null   object\n",
      " 8   Device             2500 non-null   object\n",
      " 9   Plan Duration      2500 non-null   object\n",
      "dtypes: int64(3), object(7)\n",
      "memory usage: 195.4+ KB\n"
     ]
    }
   ],
   "source": [
    "#mengecek tipe data masing kolom\n",
    "df.info()"
   ]
  },
  {
   "cell_type": "markdown",
   "metadata": {},
   "source": [
    "ketika dicek untuk join date dan last payment date seharusnya memakai data datetime"
   ]
  },
  {
   "cell_type": "code",
   "execution_count": 6,
   "metadata": {},
   "outputs": [],
   "source": [
    "#melakukan perubahan data join date dan last payment date menjadi datetime\n",
    "df['Join Date'] = pd.to_datetime(df['Join Date'])  \n",
    "df['Last Payment Date'] = pd.to_datetime(df['Last Payment Date'])  "
   ]
  },
  {
   "cell_type": "markdown",
   "metadata": {},
   "source": [
    "ketika dipanggil tipe data untuk join date dan last payment date sudah berubah menjadi datetime"
   ]
  },
  {
   "cell_type": "code",
   "execution_count": 7,
   "metadata": {},
   "outputs": [
    {
     "name": "stdout",
     "output_type": "stream",
     "text": [
      "<class 'pandas.core.frame.DataFrame'>\n",
      "RangeIndex: 2500 entries, 0 to 2499\n",
      "Data columns (total 10 columns):\n",
      " #   Column             Non-Null Count  Dtype         \n",
      "---  ------             --------------  -----         \n",
      " 0   User ID            2500 non-null   int64         \n",
      " 1   Subscription Type  2500 non-null   object        \n",
      " 2   Monthly Revenue    2500 non-null   int64         \n",
      " 3   Join Date          2500 non-null   datetime64[ns]\n",
      " 4   Last Payment Date  2500 non-null   datetime64[ns]\n",
      " 5   Country            2500 non-null   object        \n",
      " 6   Age                2500 non-null   int64         \n",
      " 7   Gender             2500 non-null   object        \n",
      " 8   Device             2500 non-null   object        \n",
      " 9   Plan Duration      2500 non-null   object        \n",
      "dtypes: datetime64[ns](2), int64(3), object(5)\n",
      "memory usage: 195.4+ KB\n"
     ]
    }
   ],
   "source": [
    "df.info()"
   ]
  },
  {
   "cell_type": "markdown",
   "metadata": {},
   "source": [
    "membuat kolom baru dimana subscription type diubah menjadi numerical dengan menambahkan kolom subscribeid dimana 1=basic, 2=standard, 3=premium"
   ]
  },
  {
   "cell_type": "code",
   "execution_count": 8,
   "metadata": {},
   "outputs": [],
   "source": [
    "#membuat variable baru subs_type sebagai perwakilan subscription type\n",
    "subs_type = df['Subscription Type']"
   ]
  },
  {
   "cell_type": "code",
   "execution_count": 9,
   "metadata": {},
   "outputs": [],
   "source": [
    "#membuat fungsi unntuk mengubah subscription type dari basic menjadi 1, standard menjadi 2 , dan premium menjadi 3 lalu menampungnya ke dalam koom baru SubscribeID\n",
    "def map_subscribe_type_to_id(subs_type):\n",
    "    if subs_type == 'Basic':\n",
    "        return 1\n",
    "    elif subs_type == 'Standard':\n",
    "        return 2\n",
    "    elif subs_type == 'Premium':\n",
    "        return 3\n",
    "    else:\n",
    "        return None  # Handle nilai yang tidak dikenali\n",
    "\n",
    "# Menerapkan fungsi pada kolom SubscribeType untuk membuat kolom baru SubscribeID\n",
    "df['SubscribeID'] = df['Subscription Type'].apply(map_subscribe_type_to_id)"
   ]
  },
  {
   "cell_type": "markdown",
   "metadata": {},
   "source": [
    "kolom subscribe id sudah terbuat akan tetapi masih berada dipaling kanan sedangkan subscribeid ingin ditaru sebelum subscription type"
   ]
  },
  {
   "cell_type": "code",
   "execution_count": 10,
   "metadata": {},
   "outputs": [
    {
     "data": {
      "text/html": [
       "<div>\n",
       "<style scoped>\n",
       "    .dataframe tbody tr th:only-of-type {\n",
       "        vertical-align: middle;\n",
       "    }\n",
       "\n",
       "    .dataframe tbody tr th {\n",
       "        vertical-align: top;\n",
       "    }\n",
       "\n",
       "    .dataframe thead th {\n",
       "        text-align: right;\n",
       "    }\n",
       "</style>\n",
       "<table border=\"1\" class=\"dataframe\">\n",
       "  <thead>\n",
       "    <tr style=\"text-align: right;\">\n",
       "      <th></th>\n",
       "      <th>User ID</th>\n",
       "      <th>Subscription Type</th>\n",
       "      <th>Monthly Revenue</th>\n",
       "      <th>Join Date</th>\n",
       "      <th>Last Payment Date</th>\n",
       "      <th>Country</th>\n",
       "      <th>Age</th>\n",
       "      <th>Gender</th>\n",
       "      <th>Device</th>\n",
       "      <th>Plan Duration</th>\n",
       "      <th>SubscribeID</th>\n",
       "    </tr>\n",
       "  </thead>\n",
       "  <tbody>\n",
       "    <tr>\n",
       "      <th>0</th>\n",
       "      <td>1</td>\n",
       "      <td>Basic</td>\n",
       "      <td>10</td>\n",
       "      <td>2022-01-15</td>\n",
       "      <td>2023-10-06</td>\n",
       "      <td>United States</td>\n",
       "      <td>28</td>\n",
       "      <td>Male</td>\n",
       "      <td>Smartphone</td>\n",
       "      <td>1 Month</td>\n",
       "      <td>1</td>\n",
       "    </tr>\n",
       "    <tr>\n",
       "      <th>1</th>\n",
       "      <td>2</td>\n",
       "      <td>Premium</td>\n",
       "      <td>15</td>\n",
       "      <td>2021-05-09</td>\n",
       "      <td>2023-06-22</td>\n",
       "      <td>Canada</td>\n",
       "      <td>35</td>\n",
       "      <td>Female</td>\n",
       "      <td>Tablet</td>\n",
       "      <td>1 Month</td>\n",
       "      <td>3</td>\n",
       "    </tr>\n",
       "    <tr>\n",
       "      <th>2</th>\n",
       "      <td>3</td>\n",
       "      <td>Standard</td>\n",
       "      <td>12</td>\n",
       "      <td>2023-02-28</td>\n",
       "      <td>2023-06-27</td>\n",
       "      <td>United Kingdom</td>\n",
       "      <td>42</td>\n",
       "      <td>Male</td>\n",
       "      <td>Smart TV</td>\n",
       "      <td>1 Month</td>\n",
       "      <td>2</td>\n",
       "    </tr>\n",
       "    <tr>\n",
       "      <th>3</th>\n",
       "      <td>4</td>\n",
       "      <td>Standard</td>\n",
       "      <td>12</td>\n",
       "      <td>2022-10-07</td>\n",
       "      <td>2023-06-26</td>\n",
       "      <td>Australia</td>\n",
       "      <td>51</td>\n",
       "      <td>Female</td>\n",
       "      <td>Laptop</td>\n",
       "      <td>1 Month</td>\n",
       "      <td>2</td>\n",
       "    </tr>\n",
       "    <tr>\n",
       "      <th>4</th>\n",
       "      <td>5</td>\n",
       "      <td>Basic</td>\n",
       "      <td>10</td>\n",
       "      <td>2023-01-05</td>\n",
       "      <td>2023-06-28</td>\n",
       "      <td>Germany</td>\n",
       "      <td>33</td>\n",
       "      <td>Male</td>\n",
       "      <td>Smartphone</td>\n",
       "      <td>1 Month</td>\n",
       "      <td>1</td>\n",
       "    </tr>\n",
       "    <tr>\n",
       "      <th>...</th>\n",
       "      <td>...</td>\n",
       "      <td>...</td>\n",
       "      <td>...</td>\n",
       "      <td>...</td>\n",
       "      <td>...</td>\n",
       "      <td>...</td>\n",
       "      <td>...</td>\n",
       "      <td>...</td>\n",
       "      <td>...</td>\n",
       "      <td>...</td>\n",
       "      <td>...</td>\n",
       "    </tr>\n",
       "    <tr>\n",
       "      <th>2495</th>\n",
       "      <td>2496</td>\n",
       "      <td>Premium</td>\n",
       "      <td>14</td>\n",
       "      <td>2022-07-25</td>\n",
       "      <td>2023-12-07</td>\n",
       "      <td>Spain</td>\n",
       "      <td>28</td>\n",
       "      <td>Female</td>\n",
       "      <td>Smart TV</td>\n",
       "      <td>1 Month</td>\n",
       "      <td>3</td>\n",
       "    </tr>\n",
       "    <tr>\n",
       "      <th>2496</th>\n",
       "      <td>2497</td>\n",
       "      <td>Basic</td>\n",
       "      <td>15</td>\n",
       "      <td>2022-04-08</td>\n",
       "      <td>2023-07-14</td>\n",
       "      <td>Spain</td>\n",
       "      <td>33</td>\n",
       "      <td>Female</td>\n",
       "      <td>Smart TV</td>\n",
       "      <td>1 Month</td>\n",
       "      <td>1</td>\n",
       "    </tr>\n",
       "    <tr>\n",
       "      <th>2497</th>\n",
       "      <td>2498</td>\n",
       "      <td>Standard</td>\n",
       "      <td>12</td>\n",
       "      <td>2022-09-08</td>\n",
       "      <td>2023-07-15</td>\n",
       "      <td>United States</td>\n",
       "      <td>38</td>\n",
       "      <td>Male</td>\n",
       "      <td>Laptop</td>\n",
       "      <td>1 Month</td>\n",
       "      <td>2</td>\n",
       "    </tr>\n",
       "    <tr>\n",
       "      <th>2498</th>\n",
       "      <td>2499</td>\n",
       "      <td>Standard</td>\n",
       "      <td>13</td>\n",
       "      <td>2022-12-08</td>\n",
       "      <td>2023-12-07</td>\n",
       "      <td>Canada</td>\n",
       "      <td>48</td>\n",
       "      <td>Female</td>\n",
       "      <td>Tablet</td>\n",
       "      <td>1 Month</td>\n",
       "      <td>2</td>\n",
       "    </tr>\n",
       "    <tr>\n",
       "      <th>2499</th>\n",
       "      <td>2500</td>\n",
       "      <td>Basic</td>\n",
       "      <td>15</td>\n",
       "      <td>2022-08-13</td>\n",
       "      <td>2023-12-07</td>\n",
       "      <td>United States</td>\n",
       "      <td>35</td>\n",
       "      <td>Female</td>\n",
       "      <td>Smart TV</td>\n",
       "      <td>1 Month</td>\n",
       "      <td>1</td>\n",
       "    </tr>\n",
       "  </tbody>\n",
       "</table>\n",
       "<p>2500 rows × 11 columns</p>\n",
       "</div>"
      ],
      "text/plain": [
       "      User ID Subscription Type  Monthly Revenue  Join Date Last Payment Date  \\\n",
       "0           1             Basic               10 2022-01-15        2023-10-06   \n",
       "1           2           Premium               15 2021-05-09        2023-06-22   \n",
       "2           3          Standard               12 2023-02-28        2023-06-27   \n",
       "3           4          Standard               12 2022-10-07        2023-06-26   \n",
       "4           5             Basic               10 2023-01-05        2023-06-28   \n",
       "...       ...               ...              ...        ...               ...   \n",
       "2495     2496           Premium               14 2022-07-25        2023-12-07   \n",
       "2496     2497             Basic               15 2022-04-08        2023-07-14   \n",
       "2497     2498          Standard               12 2022-09-08        2023-07-15   \n",
       "2498     2499          Standard               13 2022-12-08        2023-12-07   \n",
       "2499     2500             Basic               15 2022-08-13        2023-12-07   \n",
       "\n",
       "             Country  Age  Gender      Device Plan Duration  SubscribeID  \n",
       "0      United States   28    Male  Smartphone       1 Month            1  \n",
       "1             Canada   35  Female      Tablet       1 Month            3  \n",
       "2     United Kingdom   42    Male    Smart TV       1 Month            2  \n",
       "3          Australia   51  Female      Laptop       1 Month            2  \n",
       "4            Germany   33    Male  Smartphone       1 Month            1  \n",
       "...              ...  ...     ...         ...           ...          ...  \n",
       "2495           Spain   28  Female    Smart TV       1 Month            3  \n",
       "2496           Spain   33  Female    Smart TV       1 Month            1  \n",
       "2497   United States   38    Male      Laptop       1 Month            2  \n",
       "2498          Canada   48  Female      Tablet       1 Month            2  \n",
       "2499   United States   35  Female    Smart TV       1 Month            1  \n",
       "\n",
       "[2500 rows x 11 columns]"
      ]
     },
     "execution_count": 10,
     "metadata": {},
     "output_type": "execute_result"
    }
   ],
   "source": [
    "df"
   ]
  },
  {
   "cell_type": "markdown",
   "metadata": {},
   "source": [
    "membuat reorder kolom baru dengan varibael baru dimana membuat varibale df_fix untuk menampung table yang kolomnya sudah di reorder"
   ]
  },
  {
   "cell_type": "code",
   "execution_count": 11,
   "metadata": {},
   "outputs": [],
   "source": [
    "#membuat variabel baru unutk menampung nama kolom yang baru dan membuat varibael baru unutk menampung varibael yang telah dibuat \n",
    "df_new = ['User ID','SubscribeID','Subscription Type','Monthly Revenue','Join Date','Last Payment Date','Country','Age','Gender','Device','Plan Duration']\n",
    "df_fix=df[df_new]"
   ]
  },
  {
   "cell_type": "markdown",
   "metadata": {},
   "source": [
    "ketika dipanggil kembali maka kolom subscribeID sudah berada disebelum subscription type"
   ]
  },
  {
   "cell_type": "code",
   "execution_count": 12,
   "metadata": {},
   "outputs": [
    {
     "data": {
      "text/html": [
       "<div>\n",
       "<style scoped>\n",
       "    .dataframe tbody tr th:only-of-type {\n",
       "        vertical-align: middle;\n",
       "    }\n",
       "\n",
       "    .dataframe tbody tr th {\n",
       "        vertical-align: top;\n",
       "    }\n",
       "\n",
       "    .dataframe thead th {\n",
       "        text-align: right;\n",
       "    }\n",
       "</style>\n",
       "<table border=\"1\" class=\"dataframe\">\n",
       "  <thead>\n",
       "    <tr style=\"text-align: right;\">\n",
       "      <th></th>\n",
       "      <th>User ID</th>\n",
       "      <th>SubscribeID</th>\n",
       "      <th>Subscription Type</th>\n",
       "      <th>Monthly Revenue</th>\n",
       "      <th>Join Date</th>\n",
       "      <th>Last Payment Date</th>\n",
       "      <th>Country</th>\n",
       "      <th>Age</th>\n",
       "      <th>Gender</th>\n",
       "      <th>Device</th>\n",
       "      <th>Plan Duration</th>\n",
       "    </tr>\n",
       "  </thead>\n",
       "  <tbody>\n",
       "    <tr>\n",
       "      <th>0</th>\n",
       "      <td>1</td>\n",
       "      <td>1</td>\n",
       "      <td>Basic</td>\n",
       "      <td>10</td>\n",
       "      <td>2022-01-15</td>\n",
       "      <td>2023-10-06</td>\n",
       "      <td>United States</td>\n",
       "      <td>28</td>\n",
       "      <td>Male</td>\n",
       "      <td>Smartphone</td>\n",
       "      <td>1 Month</td>\n",
       "    </tr>\n",
       "    <tr>\n",
       "      <th>1</th>\n",
       "      <td>2</td>\n",
       "      <td>3</td>\n",
       "      <td>Premium</td>\n",
       "      <td>15</td>\n",
       "      <td>2021-05-09</td>\n",
       "      <td>2023-06-22</td>\n",
       "      <td>Canada</td>\n",
       "      <td>35</td>\n",
       "      <td>Female</td>\n",
       "      <td>Tablet</td>\n",
       "      <td>1 Month</td>\n",
       "    </tr>\n",
       "    <tr>\n",
       "      <th>2</th>\n",
       "      <td>3</td>\n",
       "      <td>2</td>\n",
       "      <td>Standard</td>\n",
       "      <td>12</td>\n",
       "      <td>2023-02-28</td>\n",
       "      <td>2023-06-27</td>\n",
       "      <td>United Kingdom</td>\n",
       "      <td>42</td>\n",
       "      <td>Male</td>\n",
       "      <td>Smart TV</td>\n",
       "      <td>1 Month</td>\n",
       "    </tr>\n",
       "    <tr>\n",
       "      <th>3</th>\n",
       "      <td>4</td>\n",
       "      <td>2</td>\n",
       "      <td>Standard</td>\n",
       "      <td>12</td>\n",
       "      <td>2022-10-07</td>\n",
       "      <td>2023-06-26</td>\n",
       "      <td>Australia</td>\n",
       "      <td>51</td>\n",
       "      <td>Female</td>\n",
       "      <td>Laptop</td>\n",
       "      <td>1 Month</td>\n",
       "    </tr>\n",
       "    <tr>\n",
       "      <th>4</th>\n",
       "      <td>5</td>\n",
       "      <td>1</td>\n",
       "      <td>Basic</td>\n",
       "      <td>10</td>\n",
       "      <td>2023-01-05</td>\n",
       "      <td>2023-06-28</td>\n",
       "      <td>Germany</td>\n",
       "      <td>33</td>\n",
       "      <td>Male</td>\n",
       "      <td>Smartphone</td>\n",
       "      <td>1 Month</td>\n",
       "    </tr>\n",
       "    <tr>\n",
       "      <th>...</th>\n",
       "      <td>...</td>\n",
       "      <td>...</td>\n",
       "      <td>...</td>\n",
       "      <td>...</td>\n",
       "      <td>...</td>\n",
       "      <td>...</td>\n",
       "      <td>...</td>\n",
       "      <td>...</td>\n",
       "      <td>...</td>\n",
       "      <td>...</td>\n",
       "      <td>...</td>\n",
       "    </tr>\n",
       "    <tr>\n",
       "      <th>2495</th>\n",
       "      <td>2496</td>\n",
       "      <td>3</td>\n",
       "      <td>Premium</td>\n",
       "      <td>14</td>\n",
       "      <td>2022-07-25</td>\n",
       "      <td>2023-12-07</td>\n",
       "      <td>Spain</td>\n",
       "      <td>28</td>\n",
       "      <td>Female</td>\n",
       "      <td>Smart TV</td>\n",
       "      <td>1 Month</td>\n",
       "    </tr>\n",
       "    <tr>\n",
       "      <th>2496</th>\n",
       "      <td>2497</td>\n",
       "      <td>1</td>\n",
       "      <td>Basic</td>\n",
       "      <td>15</td>\n",
       "      <td>2022-04-08</td>\n",
       "      <td>2023-07-14</td>\n",
       "      <td>Spain</td>\n",
       "      <td>33</td>\n",
       "      <td>Female</td>\n",
       "      <td>Smart TV</td>\n",
       "      <td>1 Month</td>\n",
       "    </tr>\n",
       "    <tr>\n",
       "      <th>2497</th>\n",
       "      <td>2498</td>\n",
       "      <td>2</td>\n",
       "      <td>Standard</td>\n",
       "      <td>12</td>\n",
       "      <td>2022-09-08</td>\n",
       "      <td>2023-07-15</td>\n",
       "      <td>United States</td>\n",
       "      <td>38</td>\n",
       "      <td>Male</td>\n",
       "      <td>Laptop</td>\n",
       "      <td>1 Month</td>\n",
       "    </tr>\n",
       "    <tr>\n",
       "      <th>2498</th>\n",
       "      <td>2499</td>\n",
       "      <td>2</td>\n",
       "      <td>Standard</td>\n",
       "      <td>13</td>\n",
       "      <td>2022-12-08</td>\n",
       "      <td>2023-12-07</td>\n",
       "      <td>Canada</td>\n",
       "      <td>48</td>\n",
       "      <td>Female</td>\n",
       "      <td>Tablet</td>\n",
       "      <td>1 Month</td>\n",
       "    </tr>\n",
       "    <tr>\n",
       "      <th>2499</th>\n",
       "      <td>2500</td>\n",
       "      <td>1</td>\n",
       "      <td>Basic</td>\n",
       "      <td>15</td>\n",
       "      <td>2022-08-13</td>\n",
       "      <td>2023-12-07</td>\n",
       "      <td>United States</td>\n",
       "      <td>35</td>\n",
       "      <td>Female</td>\n",
       "      <td>Smart TV</td>\n",
       "      <td>1 Month</td>\n",
       "    </tr>\n",
       "  </tbody>\n",
       "</table>\n",
       "<p>2500 rows × 11 columns</p>\n",
       "</div>"
      ],
      "text/plain": [
       "      User ID  SubscribeID Subscription Type  Monthly Revenue  Join Date  \\\n",
       "0           1            1             Basic               10 2022-01-15   \n",
       "1           2            3           Premium               15 2021-05-09   \n",
       "2           3            2          Standard               12 2023-02-28   \n",
       "3           4            2          Standard               12 2022-10-07   \n",
       "4           5            1             Basic               10 2023-01-05   \n",
       "...       ...          ...               ...              ...        ...   \n",
       "2495     2496            3           Premium               14 2022-07-25   \n",
       "2496     2497            1             Basic               15 2022-04-08   \n",
       "2497     2498            2          Standard               12 2022-09-08   \n",
       "2498     2499            2          Standard               13 2022-12-08   \n",
       "2499     2500            1             Basic               15 2022-08-13   \n",
       "\n",
       "     Last Payment Date         Country  Age  Gender      Device Plan Duration  \n",
       "0           2023-10-06   United States   28    Male  Smartphone       1 Month  \n",
       "1           2023-06-22          Canada   35  Female      Tablet       1 Month  \n",
       "2           2023-06-27  United Kingdom   42    Male    Smart TV       1 Month  \n",
       "3           2023-06-26       Australia   51  Female      Laptop       1 Month  \n",
       "4           2023-06-28         Germany   33    Male  Smartphone       1 Month  \n",
       "...                ...             ...  ...     ...         ...           ...  \n",
       "2495        2023-12-07           Spain   28  Female    Smart TV       1 Month  \n",
       "2496        2023-07-14           Spain   33  Female    Smart TV       1 Month  \n",
       "2497        2023-07-15   United States   38    Male      Laptop       1 Month  \n",
       "2498        2023-12-07          Canada   48  Female      Tablet       1 Month  \n",
       "2499        2023-12-07   United States   35  Female    Smart TV       1 Month  \n",
       "\n",
       "[2500 rows x 11 columns]"
      ]
     },
     "execution_count": 12,
     "metadata": {},
     "output_type": "execute_result"
    }
   ],
   "source": [
    "df_fix"
   ]
  },
  {
   "cell_type": "markdown",
   "metadata": {},
   "source": [
    "menghilangkan kolom plan duration karena datanya semua hanya memiliki 1 value yaitu 1 bulan sehingga didrop untuk mempersimple table "
   ]
  },
  {
   "cell_type": "code",
   "execution_count": 13,
   "metadata": {},
   "outputs": [],
   "source": [
    "df_final = df_fix.drop(columns='Plan Duration')"
   ]
  },
  {
   "cell_type": "markdown",
   "metadata": {},
   "source": [
    "menghilangkan kolom user id karena tidak penting dalam perhitungan analisis data stattistik"
   ]
  },
  {
   "cell_type": "code",
   "execution_count": 14,
   "metadata": {},
   "outputs": [],
   "source": [
    "df_finals=df_final.drop(columns='User ID')"
   ]
  },
  {
   "cell_type": "code",
   "execution_count": 15,
   "metadata": {},
   "outputs": [
    {
     "name": "stdout",
     "output_type": "stream",
     "text": [
      "<class 'pandas.core.frame.DataFrame'>\n",
      "RangeIndex: 2500 entries, 0 to 2499\n",
      "Data columns (total 9 columns):\n",
      " #   Column             Non-Null Count  Dtype         \n",
      "---  ------             --------------  -----         \n",
      " 0   SubscribeID        2500 non-null   int64         \n",
      " 1   Subscription Type  2500 non-null   object        \n",
      " 2   Monthly Revenue    2500 non-null   int64         \n",
      " 3   Join Date          2500 non-null   datetime64[ns]\n",
      " 4   Last Payment Date  2500 non-null   datetime64[ns]\n",
      " 5   Country            2500 non-null   object        \n",
      " 6   Age                2500 non-null   int64         \n",
      " 7   Gender             2500 non-null   object        \n",
      " 8   Device             2500 non-null   object        \n",
      "dtypes: datetime64[ns](2), int64(3), object(4)\n",
      "memory usage: 175.9+ KB\n"
     ]
    }
   ],
   "source": [
    "df_finals.info()"
   ]
  },
  {
   "cell_type": "markdown",
   "metadata": {},
   "source": [
    "ketika data dipanggil untuk kolom User ID dan Plan Duration sudah tidak ada"
   ]
  },
  {
   "cell_type": "markdown",
   "metadata": {},
   "source": [
    "**Analisis dan perhitungan**"
   ]
  },
  {
   "cell_type": "markdown",
   "metadata": {},
   "source": [
    "1. Device apa yang paling sering digunakan untuk mengakses netflix ? "
   ]
  },
  {
   "cell_type": "code",
   "execution_count": 16,
   "metadata": {},
   "outputs": [
    {
     "data": {
      "text/plain": [
       "Laptop        636\n",
       "Tablet        633\n",
       "Smartphone    621\n",
       "Smart TV      610\n",
       "Name: Device, dtype: int64"
      ]
     },
     "execution_count": 16,
     "metadata": {},
     "output_type": "execute_result"
    }
   ],
   "source": [
    "#membuat variabel baru untuk menampung value counts dari device\n",
    "device_freq = df_final['Device'].value_counts()\n",
    "device_freq"
   ]
  },
  {
   "cell_type": "code",
   "execution_count": 17,
   "metadata": {},
   "outputs": [
    {
     "data": {
      "image/png": "[encoded data removed]",
      "text/plain": [
       "<Figure size 640x480 with 1 Axes>"
      ]
     },
     "metadata": {},
     "output_type": "display_data"
    }
   ],
   "source": [
    "#menggunakan pie chart untuk menampilkan device mana yang sering dipakai\n",
    "plt.pie(device_freq, labels=device_freq.index, autopct='%1.1f%%', startangle=90)\n",
    "plt.title('Device Types Distribution')\n",
    "plt.show()"
   ]
  },
  {
   "cell_type": "markdown",
   "metadata": {},
   "source": [
    "Kesimpulan : Laptop memiliki pengguna paling banyak ketika menggunakan netflix diikuti oleh tablet,smartphone,dan smart tv jadi untuk meningkatkan subscriber baru untuk peningkatan UI dan user experience bisa dilakukan di semua devicenya untuk membuat user tetap menggunakan netflix dan menarik user baru"
   ]
  },
  {
   "cell_type": "markdown",
   "metadata": {},
   "source": [
    "2. Type subcriber apa yang paling banyak menghasilkan revenue ?"
   ]
  },
  {
   "cell_type": "code",
   "execution_count": 18,
   "metadata": {},
   "outputs": [
    {
     "data": {
      "text/plain": [
       "Text(0, 0.5, 'Monthly Revenue')"
      ]
     },
     "execution_count": 18,
     "metadata": {},
     "output_type": "execute_result"
    },
    {
     "data": {
      "image/png": "[encoded data removed]",
      "text/plain": [
       "<Figure size 640x480 with 1 Axes>"
      ]
     },
     "metadata": {},
     "output_type": "display_data"
    }
   ],
   "source": [
    "#menggunakan barplot untuk menampilkan perbandingan dari total revnue dari masing-masing tipe subscription\n",
    "sns.barplot(x='Subscription Type', y='Monthly Revenue', estimator=sum, data=df_finals.sort_values('Monthly Revenue'))\n",
    "plt.title('Month Revenue based on Subsctiption Type Distribution')\n",
    "plt.xlabel('Subscription Type')\n",
    "plt.ylabel('Monthly Revenue')"
   ]
  },
  {
   "cell_type": "markdown",
   "metadata": {},
   "source": [
    "Kesimpulan : Dilihat dari data type basic menyumbang paling dari revenue walaupun dia merupakan type yang paling murah, sehingga type basic bisa ditingkatkan lagi dari UI dan user experiencenya agar menarik orang untuk daftar menjadi pengguna baru netflix dan mempertahankan user tetap"
   ]
  },
  {
   "cell_type": "markdown",
   "metadata": {},
   "source": [
    "3. Negara mana yang paling banyak menghasilkan reveue"
   ]
  },
  {
   "cell_type": "code",
   "execution_count": 19,
   "metadata": {},
   "outputs": [
    {
     "data": {
      "text/plain": [
       "(array([0, 1, 2, 3, 4, 5, 6, 7, 8, 9]),\n",
       " [Text(0, 0, 'United States'),\n",
       "  Text(1, 0, 'Spain'),\n",
       "  Text(2, 0, 'Canada'),\n",
       "  Text(3, 0, 'France'),\n",
       "  Text(4, 0, 'Mexico'),\n",
       "  Text(5, 0, 'Brazil'),\n",
       "  Text(6, 0, 'Italy'),\n",
       "  Text(7, 0, 'United Kingdom'),\n",
       "  Text(8, 0, 'Germany'),\n",
       "  Text(9, 0, 'Australia')])"
      ]
     },
     "execution_count": 19,
     "metadata": {},
     "output_type": "execute_result"
    },
    {
     "data": {
      "image/png": "[encoded data removed]",
      "text/plain": [
       "<Figure size 640x480 with 1 Axes>"
      ]
     },
     "metadata": {},
     "output_type": "display_data"
    }
   ],
   "source": [
    "#memakai barplot untuk menampilkan total revnue pada masing-masing negara\n",
    "sns.barplot(x='Country', y='Monthly Revenue', estimator='sum',data=df_finals.sort_values('Monthly Revenue'))\n",
    "plt.title('Month Revenue based on Country Distribution')\n",
    "plt.xlabel('Country')\n",
    "plt.ylabel('Monthly Revenue')\n",
    "plt.xticks(rotation=90)"
   ]
  },
  {
   "cell_type": "markdown",
   "metadata": {},
   "source": [
    "Kesimpulan : Jika dilihat dari table diatas didapatkan bahwa negara Amerika dan Spanyol merupakan penghasil revenue bulanan paling tinggi sehingga marketing campaign bisa lebih difokuskan di 2 negara tersebut seperti memberikan privilage berupa bisa mendapatkan subtitle dan dubbing dengan bahasa negara tersebut terlebih dahulu atau ada serial netflix khusus untuk negara tersebut untuk menarik pengguna baru netflix dan mempertahankan user tetap"
   ]
  },
  {
   "cell_type": "markdown",
   "metadata": {},
   "source": [
    "4. Gender apa yang paling banyak menggunakan netflix pada masing-masing negara"
   ]
  },
  {
   "cell_type": "code",
   "execution_count": 20,
   "metadata": {},
   "outputs": [
    {
     "data": {
      "text/plain": [
       "Text(0, 0.5, 'Count')"
      ]
     },
     "execution_count": 20,
     "metadata": {},
     "output_type": "execute_result"
    },
    {
     "data": {
      "image/png": "[encoded data removed]",
      "text/plain": [
       "<Figure size 640x480 with 1 Axes>"
      ]
     },
     "metadata": {},
     "output_type": "display_data"
    }
   ],
   "source": [
    "#menggunakan countplot untuk menghitung gender pengguna netflix pada masing-masing negara \n",
    "sns.countplot(x='Gender', hue='Country', data=df_finals)\n",
    "plt.title('User Netflix Gender Distribution Based on Country')\n",
    "plt.xlabel('Gender')\n",
    "plt.ylabel('Count')"
   ]
  },
  {
   "cell_type": "markdown",
   "metadata": {},
   "source": [
    " Kesimpulan : Dilihat dari data bahwa ada beberapa negara dengan perbedaan pengguna netflix pria dan wanita seperti dinegara United State lebih banyak pengguna pria sehingga untuk nantinya alogritma film rekomendasi untuk user baru / existing user pria bisa ditingkatkan lebih lanjut , sedangkan Spanyol lebih banyak pengguna wanita sehingga untuk nantinya algoritma film rekomendasi untuk user baru / existing user wanita bisa ditingkatkan lebih lanjut untuk meningkatkan user experience. Hal tersebut juga berlaku untuk negara-negara yang lain"
   ]
  },
  {
   "cell_type": "markdown",
   "metadata": {},
   "source": [
    "5. Menghitung durasi lamanya pengguna netflix"
   ]
  },
  {
   "cell_type": "code",
   "execution_count": 21,
   "metadata": {},
   "outputs": [],
   "source": [
    "#membuat kolom subscribe duration untuk menampung durasi dari perhitungan last payment date - join date\n",
    "df_finals['Subscribe Duration'] = df_finals['Last Payment Date'] - df_finals['Join Date']"
   ]
  },
  {
   "cell_type": "code",
   "execution_count": 22,
   "metadata": {},
   "outputs": [],
   "source": [
    "df_finals['Subscribe Duration']=df_finals['Subscribe Duration'].astype('str').str.replace(' days','').astype('int')"
   ]
  },
  {
   "cell_type": "code",
   "execution_count": 23,
   "metadata": {},
   "outputs": [
    {
     "name": "stdout",
     "output_type": "stream",
     "text": [
      "<class 'pandas.core.frame.DataFrame'>\n",
      "RangeIndex: 2500 entries, 0 to 2499\n",
      "Data columns (total 10 columns):\n",
      " #   Column              Non-Null Count  Dtype         \n",
      "---  ------              --------------  -----         \n",
      " 0   SubscribeID         2500 non-null   int64         \n",
      " 1   Subscription Type   2500 non-null   object        \n",
      " 2   Monthly Revenue     2500 non-null   int64         \n",
      " 3   Join Date           2500 non-null   datetime64[ns]\n",
      " 4   Last Payment Date   2500 non-null   datetime64[ns]\n",
      " 5   Country             2500 non-null   object        \n",
      " 6   Age                 2500 non-null   int64         \n",
      " 7   Gender              2500 non-null   object        \n",
      " 8   Device              2500 non-null   object        \n",
      " 9   Subscribe Duration  2500 non-null   int32         \n",
      "dtypes: datetime64[ns](2), int32(1), int64(3), object(4)\n",
      "memory usage: 185.7+ KB\n"
     ]
    }
   ],
   "source": [
    "df_finals.info()"
   ]
  },
  {
   "cell_type": "markdown",
   "metadata": {},
   "source": [
    "seteleh dicek kolom subcribe duration sudah terbuat"
   ]
  },
  {
   "cell_type": "code",
   "execution_count": 24,
   "metadata": {},
   "outputs": [
    {
     "data": {
      "text/html": [
       "<div>\n",
       "<style scoped>\n",
       "    .dataframe tbody tr th:only-of-type {\n",
       "        vertical-align: middle;\n",
       "    }\n",
       "\n",
       "    .dataframe tbody tr th {\n",
       "        vertical-align: top;\n",
       "    }\n",
       "\n",
       "    .dataframe thead th {\n",
       "        text-align: right;\n",
       "    }\n",
       "</style>\n",
       "<table border=\"1\" class=\"dataframe\">\n",
       "  <thead>\n",
       "    <tr style=\"text-align: right;\">\n",
       "      <th></th>\n",
       "      <th>SubscribeID</th>\n",
       "      <th>Subscription Type</th>\n",
       "      <th>Monthly Revenue</th>\n",
       "      <th>Join Date</th>\n",
       "      <th>Last Payment Date</th>\n",
       "      <th>Country</th>\n",
       "      <th>Age</th>\n",
       "      <th>Gender</th>\n",
       "      <th>Device</th>\n",
       "      <th>Subscribe Duration</th>\n",
       "    </tr>\n",
       "  </thead>\n",
       "  <tbody>\n",
       "    <tr>\n",
       "      <th>0</th>\n",
       "      <td>1</td>\n",
       "      <td>Basic</td>\n",
       "      <td>10</td>\n",
       "      <td>2022-01-15</td>\n",
       "      <td>2023-10-06</td>\n",
       "      <td>United States</td>\n",
       "      <td>28</td>\n",
       "      <td>Male</td>\n",
       "      <td>Smartphone</td>\n",
       "      <td>629</td>\n",
       "    </tr>\n",
       "    <tr>\n",
       "      <th>1</th>\n",
       "      <td>3</td>\n",
       "      <td>Premium</td>\n",
       "      <td>15</td>\n",
       "      <td>2021-05-09</td>\n",
       "      <td>2023-06-22</td>\n",
       "      <td>Canada</td>\n",
       "      <td>35</td>\n",
       "      <td>Female</td>\n",
       "      <td>Tablet</td>\n",
       "      <td>774</td>\n",
       "    </tr>\n",
       "    <tr>\n",
       "      <th>2</th>\n",
       "      <td>2</td>\n",
       "      <td>Standard</td>\n",
       "      <td>12</td>\n",
       "      <td>2023-02-28</td>\n",
       "      <td>2023-06-27</td>\n",
       "      <td>United Kingdom</td>\n",
       "      <td>42</td>\n",
       "      <td>Male</td>\n",
       "      <td>Smart TV</td>\n",
       "      <td>119</td>\n",
       "    </tr>\n",
       "    <tr>\n",
       "      <th>3</th>\n",
       "      <td>2</td>\n",
       "      <td>Standard</td>\n",
       "      <td>12</td>\n",
       "      <td>2022-10-07</td>\n",
       "      <td>2023-06-26</td>\n",
       "      <td>Australia</td>\n",
       "      <td>51</td>\n",
       "      <td>Female</td>\n",
       "      <td>Laptop</td>\n",
       "      <td>262</td>\n",
       "    </tr>\n",
       "    <tr>\n",
       "      <th>4</th>\n",
       "      <td>1</td>\n",
       "      <td>Basic</td>\n",
       "      <td>10</td>\n",
       "      <td>2023-01-05</td>\n",
       "      <td>2023-06-28</td>\n",
       "      <td>Germany</td>\n",
       "      <td>33</td>\n",
       "      <td>Male</td>\n",
       "      <td>Smartphone</td>\n",
       "      <td>174</td>\n",
       "    </tr>\n",
       "    <tr>\n",
       "      <th>...</th>\n",
       "      <td>...</td>\n",
       "      <td>...</td>\n",
       "      <td>...</td>\n",
       "      <td>...</td>\n",
       "      <td>...</td>\n",
       "      <td>...</td>\n",
       "      <td>...</td>\n",
       "      <td>...</td>\n",
       "      <td>...</td>\n",
       "      <td>...</td>\n",
       "    </tr>\n",
       "    <tr>\n",
       "      <th>2495</th>\n",
       "      <td>3</td>\n",
       "      <td>Premium</td>\n",
       "      <td>14</td>\n",
       "      <td>2022-07-25</td>\n",
       "      <td>2023-12-07</td>\n",
       "      <td>Spain</td>\n",
       "      <td>28</td>\n",
       "      <td>Female</td>\n",
       "      <td>Smart TV</td>\n",
       "      <td>500</td>\n",
       "    </tr>\n",
       "    <tr>\n",
       "      <th>2496</th>\n",
       "      <td>1</td>\n",
       "      <td>Basic</td>\n",
       "      <td>15</td>\n",
       "      <td>2022-04-08</td>\n",
       "      <td>2023-07-14</td>\n",
       "      <td>Spain</td>\n",
       "      <td>33</td>\n",
       "      <td>Female</td>\n",
       "      <td>Smart TV</td>\n",
       "      <td>462</td>\n",
       "    </tr>\n",
       "    <tr>\n",
       "      <th>2497</th>\n",
       "      <td>2</td>\n",
       "      <td>Standard</td>\n",
       "      <td>12</td>\n",
       "      <td>2022-09-08</td>\n",
       "      <td>2023-07-15</td>\n",
       "      <td>United States</td>\n",
       "      <td>38</td>\n",
       "      <td>Male</td>\n",
       "      <td>Laptop</td>\n",
       "      <td>310</td>\n",
       "    </tr>\n",
       "    <tr>\n",
       "      <th>2498</th>\n",
       "      <td>2</td>\n",
       "      <td>Standard</td>\n",
       "      <td>13</td>\n",
       "      <td>2022-12-08</td>\n",
       "      <td>2023-12-07</td>\n",
       "      <td>Canada</td>\n",
       "      <td>48</td>\n",
       "      <td>Female</td>\n",
       "      <td>Tablet</td>\n",
       "      <td>364</td>\n",
       "    </tr>\n",
       "    <tr>\n",
       "      <th>2499</th>\n",
       "      <td>1</td>\n",
       "      <td>Basic</td>\n",
       "      <td>15</td>\n",
       "      <td>2022-08-13</td>\n",
       "      <td>2023-12-07</td>\n",
       "      <td>United States</td>\n",
       "      <td>35</td>\n",
       "      <td>Female</td>\n",
       "      <td>Smart TV</td>\n",
       "      <td>481</td>\n",
       "    </tr>\n",
       "  </tbody>\n",
       "</table>\n",
       "<p>2500 rows × 10 columns</p>\n",
       "</div>"
      ],
      "text/plain": [
       "      SubscribeID Subscription Type  Monthly Revenue  Join Date  \\\n",
       "0               1             Basic               10 2022-01-15   \n",
       "1               3           Premium               15 2021-05-09   \n",
       "2               2          Standard               12 2023-02-28   \n",
       "3               2          Standard               12 2022-10-07   \n",
       "4               1             Basic               10 2023-01-05   \n",
       "...           ...               ...              ...        ...   \n",
       "2495            3           Premium               14 2022-07-25   \n",
       "2496            1             Basic               15 2022-04-08   \n",
       "2497            2          Standard               12 2022-09-08   \n",
       "2498            2          Standard               13 2022-12-08   \n",
       "2499            1             Basic               15 2022-08-13   \n",
       "\n",
       "     Last Payment Date         Country  Age  Gender      Device  \\\n",
       "0           2023-10-06   United States   28    Male  Smartphone   \n",
       "1           2023-06-22          Canada   35  Female      Tablet   \n",
       "2           2023-06-27  United Kingdom   42    Male    Smart TV   \n",
       "3           2023-06-26       Australia   51  Female      Laptop   \n",
       "4           2023-06-28         Germany   33    Male  Smartphone   \n",
       "...                ...             ...  ...     ...         ...   \n",
       "2495        2023-12-07           Spain   28  Female    Smart TV   \n",
       "2496        2023-07-14           Spain   33  Female    Smart TV   \n",
       "2497        2023-07-15   United States   38    Male      Laptop   \n",
       "2498        2023-12-07          Canada   48  Female      Tablet   \n",
       "2499        2023-12-07   United States   35  Female    Smart TV   \n",
       "\n",
       "      Subscribe Duration  \n",
       "0                    629  \n",
       "1                    774  \n",
       "2                    119  \n",
       "3                    262  \n",
       "4                    174  \n",
       "...                  ...  \n",
       "2495                 500  \n",
       "2496                 462  \n",
       "2497                 310  \n",
       "2498                 364  \n",
       "2499                 481  \n",
       "\n",
       "[2500 rows x 10 columns]"
      ]
     },
     "execution_count": 24,
     "metadata": {},
     "output_type": "execute_result"
    }
   ],
   "source": [
    "#melihat data yang sudaha da subsccribe duration\n",
    "df_finals"
   ]
  },
  {
   "cell_type": "code",
   "execution_count": 25,
   "metadata": {},
   "outputs": [],
   "source": [
    "##membuat variabel baru unutk menampung nama kolom yang baru dan membuat varibael baru unutk menampung varibael yang telah dibuat \n",
    "df_finalss = ['SubscribeID','Subscription Type','Monthly Revenue','Join Date','Last Payment Date','Subscribe Duration','Country','Age','Gender','Device']\n",
    "df_netflix=df_finals[df_finalss]"
   ]
  },
  {
   "cell_type": "code",
   "execution_count": 26,
   "metadata": {},
   "outputs": [
    {
     "data": {
      "text/html": [
       "<div>\n",
       "<style scoped>\n",
       "    .dataframe tbody tr th:only-of-type {\n",
       "        vertical-align: middle;\n",
       "    }\n",
       "\n",
       "    .dataframe tbody tr th {\n",
       "        vertical-align: top;\n",
       "    }\n",
       "\n",
       "    .dataframe thead th {\n",
       "        text-align: right;\n",
       "    }\n",
       "</style>\n",
       "<table border=\"1\" class=\"dataframe\">\n",
       "  <thead>\n",
       "    <tr style=\"text-align: right;\">\n",
       "      <th></th>\n",
       "      <th>SubscribeID</th>\n",
       "      <th>Subscription Type</th>\n",
       "      <th>Monthly Revenue</th>\n",
       "      <th>Join Date</th>\n",
       "      <th>Last Payment Date</th>\n",
       "      <th>Subscribe Duration</th>\n",
       "      <th>Country</th>\n",
       "      <th>Age</th>\n",
       "      <th>Gender</th>\n",
       "      <th>Device</th>\n",
       "    </tr>\n",
       "  </thead>\n",
       "  <tbody>\n",
       "    <tr>\n",
       "      <th>0</th>\n",
       "      <td>1</td>\n",
       "      <td>Basic</td>\n",
       "      <td>10</td>\n",
       "      <td>2022-01-15</td>\n",
       "      <td>2023-10-06</td>\n",
       "      <td>629</td>\n",
       "      <td>United States</td>\n",
       "      <td>28</td>\n",
       "      <td>Male</td>\n",
       "      <td>Smartphone</td>\n",
       "    </tr>\n",
       "    <tr>\n",
       "      <th>1</th>\n",
       "      <td>3</td>\n",
       "      <td>Premium</td>\n",
       "      <td>15</td>\n",
       "      <td>2021-05-09</td>\n",
       "      <td>2023-06-22</td>\n",
       "      <td>774</td>\n",
       "      <td>Canada</td>\n",
       "      <td>35</td>\n",
       "      <td>Female</td>\n",
       "      <td>Tablet</td>\n",
       "    </tr>\n",
       "    <tr>\n",
       "      <th>2</th>\n",
       "      <td>2</td>\n",
       "      <td>Standard</td>\n",
       "      <td>12</td>\n",
       "      <td>2023-02-28</td>\n",
       "      <td>2023-06-27</td>\n",
       "      <td>119</td>\n",
       "      <td>United Kingdom</td>\n",
       "      <td>42</td>\n",
       "      <td>Male</td>\n",
       "      <td>Smart TV</td>\n",
       "    </tr>\n",
       "    <tr>\n",
       "      <th>3</th>\n",
       "      <td>2</td>\n",
       "      <td>Standard</td>\n",
       "      <td>12</td>\n",
       "      <td>2022-10-07</td>\n",
       "      <td>2023-06-26</td>\n",
       "      <td>262</td>\n",
       "      <td>Australia</td>\n",
       "      <td>51</td>\n",
       "      <td>Female</td>\n",
       "      <td>Laptop</td>\n",
       "    </tr>\n",
       "    <tr>\n",
       "      <th>4</th>\n",
       "      <td>1</td>\n",
       "      <td>Basic</td>\n",
       "      <td>10</td>\n",
       "      <td>2023-01-05</td>\n",
       "      <td>2023-06-28</td>\n",
       "      <td>174</td>\n",
       "      <td>Germany</td>\n",
       "      <td>33</td>\n",
       "      <td>Male</td>\n",
       "      <td>Smartphone</td>\n",
       "    </tr>\n",
       "    <tr>\n",
       "      <th>...</th>\n",
       "      <td>...</td>\n",
       "      <td>...</td>\n",
       "      <td>...</td>\n",
       "      <td>...</td>\n",
       "      <td>...</td>\n",
       "      <td>...</td>\n",
       "      <td>...</td>\n",
       "      <td>...</td>\n",
       "      <td>...</td>\n",
       "      <td>...</td>\n",
       "    </tr>\n",
       "    <tr>\n",
       "      <th>2495</th>\n",
       "      <td>3</td>\n",
       "      <td>Premium</td>\n",
       "      <td>14</td>\n",
       "      <td>2022-07-25</td>\n",
       "      <td>2023-12-07</td>\n",
       "      <td>500</td>\n",
       "      <td>Spain</td>\n",
       "      <td>28</td>\n",
       "      <td>Female</td>\n",
       "      <td>Smart TV</td>\n",
       "    </tr>\n",
       "    <tr>\n",
       "      <th>2496</th>\n",
       "      <td>1</td>\n",
       "      <td>Basic</td>\n",
       "      <td>15</td>\n",
       "      <td>2022-04-08</td>\n",
       "      <td>2023-07-14</td>\n",
       "      <td>462</td>\n",
       "      <td>Spain</td>\n",
       "      <td>33</td>\n",
       "      <td>Female</td>\n",
       "      <td>Smart TV</td>\n",
       "    </tr>\n",
       "    <tr>\n",
       "      <th>2497</th>\n",
       "      <td>2</td>\n",
       "      <td>Standard</td>\n",
       "      <td>12</td>\n",
       "      <td>2022-09-08</td>\n",
       "      <td>2023-07-15</td>\n",
       "      <td>310</td>\n",
       "      <td>United States</td>\n",
       "      <td>38</td>\n",
       "      <td>Male</td>\n",
       "      <td>Laptop</td>\n",
       "    </tr>\n",
       "    <tr>\n",
       "      <th>2498</th>\n",
       "      <td>2</td>\n",
       "      <td>Standard</td>\n",
       "      <td>13</td>\n",
       "      <td>2022-12-08</td>\n",
       "      <td>2023-12-07</td>\n",
       "      <td>364</td>\n",
       "      <td>Canada</td>\n",
       "      <td>48</td>\n",
       "      <td>Female</td>\n",
       "      <td>Tablet</td>\n",
       "    </tr>\n",
       "    <tr>\n",
       "      <th>2499</th>\n",
       "      <td>1</td>\n",
       "      <td>Basic</td>\n",
       "      <td>15</td>\n",
       "      <td>2022-08-13</td>\n",
       "      <td>2023-12-07</td>\n",
       "      <td>481</td>\n",
       "      <td>United States</td>\n",
       "      <td>35</td>\n",
       "      <td>Female</td>\n",
       "      <td>Smart TV</td>\n",
       "    </tr>\n",
       "  </tbody>\n",
       "</table>\n",
       "<p>2500 rows × 10 columns</p>\n",
       "</div>"
      ],
      "text/plain": [
       "      SubscribeID Subscription Type  Monthly Revenue  Join Date  \\\n",
       "0               1             Basic               10 2022-01-15   \n",
       "1               3           Premium               15 2021-05-09   \n",
       "2               2          Standard               12 2023-02-28   \n",
       "3               2          Standard               12 2022-10-07   \n",
       "4               1             Basic               10 2023-01-05   \n",
       "...           ...               ...              ...        ...   \n",
       "2495            3           Premium               14 2022-07-25   \n",
       "2496            1             Basic               15 2022-04-08   \n",
       "2497            2          Standard               12 2022-09-08   \n",
       "2498            2          Standard               13 2022-12-08   \n",
       "2499            1             Basic               15 2022-08-13   \n",
       "\n",
       "     Last Payment Date  Subscribe Duration         Country  Age  Gender  \\\n",
       "0           2023-10-06                 629   United States   28    Male   \n",
       "1           2023-06-22                 774          Canada   35  Female   \n",
       "2           2023-06-27                 119  United Kingdom   42    Male   \n",
       "3           2023-06-26                 262       Australia   51  Female   \n",
       "4           2023-06-28                 174         Germany   33    Male   \n",
       "...                ...                 ...             ...  ...     ...   \n",
       "2495        2023-12-07                 500           Spain   28  Female   \n",
       "2496        2023-07-14                 462           Spain   33  Female   \n",
       "2497        2023-07-15                 310   United States   38    Male   \n",
       "2498        2023-12-07                 364          Canada   48  Female   \n",
       "2499        2023-12-07                 481   United States   35  Female   \n",
       "\n",
       "          Device  \n",
       "0     Smartphone  \n",
       "1         Tablet  \n",
       "2       Smart TV  \n",
       "3         Laptop  \n",
       "4     Smartphone  \n",
       "...          ...  \n",
       "2495    Smart TV  \n",
       "2496    Smart TV  \n",
       "2497      Laptop  \n",
       "2498      Tablet  \n",
       "2499    Smart TV  \n",
       "\n",
       "[2500 rows x 10 columns]"
      ]
     },
     "execution_count": 26,
     "metadata": {},
     "output_type": "execute_result"
    }
   ],
   "source": [
    "#memanggil data baru yang sudah dibetulkan posisisnya\n",
    "df_netflix"
   ]
  },
  {
   "cell_type": "code",
   "execution_count": 27,
   "metadata": {},
   "outputs": [
    {
     "data": {
      "text/plain": [
       "-159"
      ]
     },
     "execution_count": 27,
     "metadata": {},
     "output_type": "execute_result"
    }
   ],
   "source": [
    "df_netflix['Subscribe Duration'].min()"
   ]
  },
  {
   "cell_type": "markdown",
   "metadata": {},
   "source": [
    "Notes : Beberapa entry sudah melakukan pembayaran terlebih dahulu sebelum join"
   ]
  },
  {
   "cell_type": "code",
   "execution_count": 28,
   "metadata": {},
   "outputs": [
    {
     "data": {
      "image/png": "[encoded data removed]",
      "text/plain": [
       "<Figure size 640x480 with 1 Axes>"
      ]
     },
     "metadata": {},
     "output_type": "display_data"
    }
   ],
   "source": [
    "#menampilkan banyaknya orang yang telah menjadi pengguna netflix tetap berdasrakan durasi lamanya  \n",
    "plt.hist(df_netflix['Subscribe Duration'])\n",
    "plt.xlabel('Subscribe Duration (days)')\n",
    "plt.ylabel('Frequency')\n",
    "plt.title('Subscribe Duration Histogram')\n",
    "plt.tight_layout()\n",
    "plt.show()"
   ]
  },
  {
   "cell_type": "markdown",
   "metadata": {},
   "source": [
    "Kesimpulan : Pengguna netflix sudah mensubcribe netflix selama 1 tahun dari join date cukup banyak sehingga bisa dikatakan mayoratis user menggunakan netflix untuk jangka waktu yang lama. Kita memberikan privilage pada user netflix yang sudah lebih dari 1 tahun menggunakan netflix bisa melihat episode terbaru 1 hari sebelum episode ditayangkan selama satu bulan dan jika ingin menikmati kembali layanan tersebut bisa memberikan referal 1 user baru sama dengan satu bulan fasilitas tersebut dan orang yang direferalkan akan mendapatkan fasilitas tersebut selama 1 bulan juga dan setelah 1 tahun bisa mendapatkan free fasilitas tersebut selama 1 bulan dan bisa memberikan referal user"
   ]
  },
  {
   "cell_type": "markdown",
   "metadata": {},
   "source": [
    "6. Berapa mean ,median ,modus, dan Skewness dari Umur ? (Statistic Desriptive)"
   ]
  },
  {
   "cell_type": "code",
   "execution_count": 29,
   "metadata": {},
   "outputs": [
    {
     "name": "stdout",
     "output_type": "stream",
     "text": [
      "Age\n",
      "Rata-rata Umur Pengguna Netflix: 38.7956\n",
      "Median Umur Pengguna Netflix: 39.0\n",
      "Modus Umur Pengguna Netflix: 0    30\n",
      "1    39\n",
      "Name: Age, dtype: int64\n",
      "Skewness Harga Produk: 0.02877016977034411\n"
     ]
    }
   ],
   "source": [
    "#menghitung mean , median , modus , dan skewness dari kolom umur\n",
    "print('Age')\n",
    "print('Rata-rata Umur Pengguna Netflix:',df_netflix['Age'].mean())\n",
    "print('Median Umur Pengguna Netflix:',df_netflix['Age'].median())\n",
    "print('Modus Umur Pengguna Netflix:',df_netflix['Age'].mode())\n",
    "print(f\"Skewness Harga Produk: {df_netflix['Age'].skew()}\")"
   ]
  },
  {
   "cell_type": "markdown",
   "metadata": {},
   "source": [
    "Kesimpulan : Rata-rata umur pengguna netflix dikisaran 38.79 dengan memiliki median di umur 39 dan untuk modus memiliki nilai 30 dan 39 dimana mean, median, modus memiliki angka yang berdekatan semua. Dengan menggunakan skewness didapaykan nilai 0.028 mendekati 0 dan kurang dari 0.5 jadi bisa simpulkan bahwa data normal dan merupakan symmetrial distribution. Jika dilihat dari rata-rata umur 38 dan 39 bahwa diumur tersebut orang sudah bekerja / memiliki penghasilan jadi bisa menggunakan campaign dengan memberikan diskon untuk pengguna baru untuk subsribe netflix pada payday (tanggal 25-31) untuk menarik orang jadi pengguna baru netflix. "
   ]
  },
  {
   "cell_type": "markdown",
   "metadata": {},
   "source": [
    "7. Apakah ada hubungannya antara subcriber netflix dengan revenue bulanan"
   ]
  },
  {
   "cell_type": "markdown",
   "metadata": {},
   "source": [
    "Menghitung hubungan antara subscriber type dan monthly revenue dari netflix\n",
    "\n",
    "H0 = Tidak ada hubungan significant antara subscriber type dan monthly revenue dari netflix\n",
    "\n",
    "H1 = Ada hubungan significant antara subscriber type dan monthly revenue dari netflix\n",
    "\n",
    "Tingkat signifikansi = 0.05\n",
    "\n",
    "Jika p-value <- 0.05, maka H0 ditolak\n",
    "\n",
    "Jika p-value >0.05, maka H0 tidak dapat ditolak"
   ]
  },
  {
   "cell_type": "markdown",
   "metadata": {},
   "source": [
    "Subscriber Type dilambangkan dengan SubscirberID pada saat menghitung pvalue dan kolerasi karena Subscriber Type merupakan kategorikal sehingga di ganti numerical dengan index"
   ]
  },
  {
   "cell_type": "code",
   "execution_count": 30,
   "metadata": {},
   "outputs": [
    {
     "name": "stdout",
     "output_type": "stream",
     "text": [
      "r-correlation: 0.03, p-value: 0.21030916604401434\n"
     ]
    }
   ],
   "source": [
    "#menggunakan metode pearson untuk menghitung kolerasi dan p value dari subscribeid dan monthly revenue\n",
    "corr_r, pval_p = stats.pearsonr(df_netflix['SubscribeID'], df_netflix['Monthly Revenue'])\n",
    "print(f\"r-correlation: {corr_r:.2f}, p-value: {pval_p}\")"
   ]
  },
  {
   "cell_type": "markdown",
   "metadata": {},
   "source": [
    "Kesimpulan : Dilihat dari nilai kolerasi 0.03 menandakan korelari positif dengan hubungan yang lemah antara subscriber type dengan monthly revenue , dari p value dengan nilai 0.21 lebih dari 0.05 menandakan bahwa h0 tidak dapat tolak jadi kesimpulannya adalah subscriber type dan month revenue memiliki hubungan kolerasi positif yang lemah dan tidak ada hubungan significant antara subsriver type dengan monthly revenue "
   ]
  },
  {
   "cell_type": "markdown",
   "metadata": {},
   "source": [
    "**Pengambilan Kesimpulan**"
   ]
  },
  {
   "cell_type": "markdown",
   "metadata": {},
   "source": [
    "Marketing pemasaran untuk meningkat jumlah user baru netflix bisa 15% dalam 6 bulan bisa dicapai dengan meningkatkan UI dan user experience pada masing-masing device terutama type basic, meningkatkan algoritma rekomendasi film berdasarkan gender,memberikan privilage bisa menonton 1 hari lebih cepat episode baru baru user baru dan pemberi referal, memberikan promo saat periode gajian pada user baru, dan mendahulukan subtitle atau dubbing bahasa pada negara dengan pengguna netflix paling banyak untuk membuat orang menjadi user netflix baru dengan kampaye pemasaran yang sudah dijabarkan diatas."
   ]
  },
  {
   "cell_type": "code",
   "execution_count": 31,
   "metadata": {},
   "outputs": [],
   "source": [
    "#untuk mengimport table yang sudah final setelah dicleaning dan diolah ke bentuk csv untuk diproses di tablau\n",
    "df_netflix.to_csv('Netflix Userbase Final.csv', index=False)"
   ]
  }
 ],
 "metadata": {
  "kernelspec": {
   "display_name": "base",
   "language": "python",
   "name": "python3"
  },
  "language_info": {
   "codemirror_mode": {
    "name": "ipython",
    "version": 3
   },
   "file_extension": ".py",
   "mimetype": "text/x-python",
   "name": "python",
   "nbconvert_exporter": "python",
   "pygments_lexer": "ipython3",
   "version": "3.9.17"
  },
  "orig_nbformat": 4
 },
 "nbformat": 4,
 "nbformat_minor": 2
}
